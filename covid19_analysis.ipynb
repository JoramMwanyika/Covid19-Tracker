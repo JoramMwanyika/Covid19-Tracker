{
 "cells": [
  {
   "cell_type": "markdown",
   "id": "9ff896af",
   "metadata": {},
   "source": [
    "# COVID-19 Global Data Tracker\n",
    "        \n",
    "This notebook analyzes global COVID-19 trends using data from Our World in Data.\n",
    "\n",
    "## Key Analyses:\n",
    "1. Global Trends Analysis\n",
    "2. Country-wise Comparisons\n",
    "3. Vaccination Progress\n",
    "4. Geographic Distribution (Choropleth Map)\n"
   ]
  },
  {
   "cell_type": "code",
   "execution_count": null,
   "id": "65d4ef42",
   "metadata": {},
   "outputs": [],
   "source": [
    "import pandas as pd\n",
    "import numpy as np\n",
    "import matplotlib.pyplot as plt\n",
    "import seaborn as sns\n",
    "import plotly.express as px\n",
    "from datetime import datetime\n",
    "import requests\n",
    "\n",
    "# Set plot style\n",
    "plt.style.use('default')\n",
    "sns.set_theme(style='whitegrid')\n"
   ]
  },
  {
   "cell_type": "markdown",
   "id": "417fb345",
   "metadata": {},
   "source": [
    "## 1. Data Loading and Preprocessing\n",
    "The data is sourced from Our World in Data's COVID-19 dataset."
   ]
  },
  {
   "cell_type": "code",
   "execution_count": null,
   "id": "923cb13f",
   "metadata": {},
   "outputs": [],
   "source": [
    "# Load the preprocessed data\n",
    "df = pd.read_csv('owid-covid-data.csv')\n",
    "df['date'] = pd.to_datetime(df['date'])\n",
    "print(f\"Dataset shape: {df.shape}\")\n",
    "df.head()"
   ]
  },
  {
   "cell_type": "markdown",
   "id": "4e7747ff",
   "metadata": {},
   "source": [
    "## 2. Global COVID-19 Trends\n",
    "Below is the analysis of global trends in cases and deaths."
   ]
  },
  {
   "cell_type": "markdown",
   "id": "1e8f1353",
   "metadata": {},
   "source": [
    "### Global Daily Cases and Deaths\n",
    "![Global Trends](global_trends.png)"
   ]
  },
  {
   "cell_type": "markdown",
   "id": "4dc66859",
   "metadata": {},
   "source": [
    "## 3. Country-wise Comparisons\n",
    "Comparison of COVID-19 metrics across selected countries."
   ]
  },
  {
   "cell_type": "markdown",
   "id": "6249e9ad",
   "metadata": {},
   "source": [
    "### Total Cases and Deaths by Country\n",
    "![Country Comparison](country_comparison.png)"
   ]
  },
  {
   "cell_type": "markdown",
   "id": "fde30cb6",
   "metadata": {},
   "source": [
    "## 4. Vaccination Progress\n",
    "Analysis of vaccination progress across countries."
   ]
  },
  {
   "cell_type": "markdown",
   "id": "d216fb74",
   "metadata": {},
   "source": [
    "### Vaccination Progress by Country\n",
    "![Vaccination Progress](vaccination_progress.png)"
   ]
  },
  {
   "cell_type": "markdown",
   "id": "42c1c297",
   "metadata": {},
   "source": [
    "## 5. Geographic Distribution\n",
    "Interactive choropleth map showing the distribution of COVID-19 cases globally.\n",
    "\n",
    "The interactive map can be found in the `choropleth_map.html` file."
   ]
  },
  {
   "cell_type": "markdown",
   "id": "747ed3dc",
   "metadata": {},
   "source": [
    "## Conclusions\n",
    "\n",
    "Key findings from our analysis:\n",
    "1. Global trends show multiple waves of infections\n",
    "2. Vaccination progress varies significantly by country\n",
    "3. Case fatality rates differ across regions\n",
    "4. Economic factors influence testing and reporting capabilities\n",
    "\n",
    "This analysis provides valuable insights into the global impact and response to the COVID-19 pandemic."
   ]
  }
 ],
 "metadata": {},
 "nbformat": 4,
 "nbformat_minor": 5
}
